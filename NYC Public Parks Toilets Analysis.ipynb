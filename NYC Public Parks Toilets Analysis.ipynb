{
 "cells": [
  {
   "cell_type": "markdown",
   "metadata": {},
   "source": [
    "# NYC Public Parks Toilets Analysis\n",
    "## by [Dan Hillman](http://danhillman.dev)\n",
    "### 1. What is this analysis for?\n",
    "While looking for datasets in the [NYC Open Data website](https://opendata.cityofnewyork.us/), the word \"toilets\" caught my attention. It is a simple dataset to practice data cleaning on, and it does not appear to have been given a lot of attention. Thought it'd be a great addition to my portfolio as well as good practice.\n",
    "### 2. Where can the data be found?\n",
    "The data download can be found [here](https://data.cityofnewyork.us/Recreation/Directory-Of-Toilets-In-Public-Parks/hjae-yuav).\n",
    "### 3. What insights have you gotten out of this analysis?\n",
    "~17.99% of toilets in NYC public parks are handicap-accessible and currently operational. After some research, 11.3% of New Yorkers report having a disability. The 17.99% of handicap-accessible toilets makes sense considering 11.3% of the New York population reports having a disability. \n",
    "\n",
    "There isn't much else to get out of this dataset other than a borough-level exploration of what toilets are open year-round or are handicap accessible. It's possible you could parse the \"Location\" column and possibly get some meaningful data, but it did not seem necessary to go that deep.\n",
    "### 4. What skills did you learn from performing this analysis?\n",
    "The `df.join()` method came in handy to combine the `borough_areas` DataFrame and the `toilets_pivot` DataFrame. `df.join()` is good for combining DataFrames on the index as opposed to using `df.merge()` where one must join \"on\" a specific column."
   ]
  },
  {
   "cell_type": "markdown",
   "metadata": {},
   "source": [
    "\n"
   ]
  },
  {
   "cell_type": "markdown",
   "metadata": {},
   "source": [
    "## Data Cleaning and Exploration"
   ]
  },
  {
   "cell_type": "code",
   "execution_count": 1,
   "metadata": {},
   "outputs": [],
   "source": [
    "import pandas as pd\n",
    "import numpy as np\n",
    "import matplotlib.pyplot as plt\n",
    "%matplotlib inline\n",
    "\n",
    "toilets = pd.read_csv(\"Directory_Of_Toilets_In_Public_Parks.csv\")"
   ]
  },
  {
   "cell_type": "code",
   "execution_count": 2,
   "metadata": {},
   "outputs": [
    {
     "data": {
      "text/html": [
       "<div>\n",
       "<style scoped>\n",
       "    .dataframe tbody tr th:only-of-type {\n",
       "        vertical-align: middle;\n",
       "    }\n",
       "\n",
       "    .dataframe tbody tr th {\n",
       "        vertical-align: top;\n",
       "    }\n",
       "\n",
       "    .dataframe thead th {\n",
       "        text-align: right;\n",
       "    }\n",
       "</style>\n",
       "<table border=\"1\" class=\"dataframe\">\n",
       "  <thead>\n",
       "    <tr style=\"text-align: right;\">\n",
       "      <th></th>\n",
       "      <th>Name</th>\n",
       "      <th>Location</th>\n",
       "      <th>Open Year-Round</th>\n",
       "      <th>Handicap Accessible</th>\n",
       "      <th>Borough</th>\n",
       "      <th>Comments</th>\n",
       "    </tr>\n",
       "  </thead>\n",
       "  <tbody>\n",
       "    <tr>\n",
       "      <th>0</th>\n",
       "      <td>100% Playground</td>\n",
       "      <td>Glenwood Road, East 100 &amp; East 101 streets</td>\n",
       "      <td>Yes</td>\n",
       "      <td>NaN</td>\n",
       "      <td>Brooklyn</td>\n",
       "      <td>NaN</td>\n",
       "    </tr>\n",
       "    <tr>\n",
       "      <th>1</th>\n",
       "      <td>174th Street Playground</td>\n",
       "      <td>East 174 Street, Stratford Avenue, Bronx River...</td>\n",
       "      <td>Yes</td>\n",
       "      <td>NaN</td>\n",
       "      <td>Bronx</td>\n",
       "      <td>NaN</td>\n",
       "    </tr>\n",
       "    <tr>\n",
       "      <th>2</th>\n",
       "      <td>227 Street Playground</td>\n",
       "      <td>Bronx Boulevard between East 226 and East 228 ...</td>\n",
       "      <td>Yes</td>\n",
       "      <td>Yes</td>\n",
       "      <td>Bronx</td>\n",
       "      <td>NaN</td>\n",
       "    </tr>\n",
       "    <tr>\n",
       "      <th>3</th>\n",
       "      <td>Abe Lincoln</td>\n",
       "      <td>East 135 Street, between Madison &amp; 5 avenues</td>\n",
       "      <td>Yes</td>\n",
       "      <td>NaN</td>\n",
       "      <td>Manhattan</td>\n",
       "      <td>NaN</td>\n",
       "    </tr>\n",
       "    <tr>\n",
       "      <th>4</th>\n",
       "      <td>Abigail Playground</td>\n",
       "      <td>East 156 Street, Tinton Avenue</td>\n",
       "      <td>No</td>\n",
       "      <td>NaN</td>\n",
       "      <td>Bronx</td>\n",
       "      <td>NaN</td>\n",
       "    </tr>\n",
       "  </tbody>\n",
       "</table>\n",
       "</div>"
      ],
      "text/plain": [
       "                      Name                                           Location  \\\n",
       "0          100% Playground         Glenwood Road, East 100 & East 101 streets   \n",
       "1  174th Street Playground  East 174 Street, Stratford Avenue, Bronx River...   \n",
       "2    227 Street Playground  Bronx Boulevard between East 226 and East 228 ...   \n",
       "3              Abe Lincoln       East 135 Street, between Madison & 5 avenues   \n",
       "4       Abigail Playground                     East 156 Street, Tinton Avenue   \n",
       "\n",
       "  Open Year-Round Handicap Accessible    Borough Comments  \n",
       "0             Yes                 NaN   Brooklyn      NaN  \n",
       "1             Yes                 NaN      Bronx      NaN  \n",
       "2             Yes                 Yes      Bronx      NaN  \n",
       "3             Yes                 NaN  Manhattan      NaN  \n",
       "4              No                 NaN      Bronx      NaN  "
      ]
     },
     "execution_count": 2,
     "metadata": {},
     "output_type": "execute_result"
    }
   ],
   "source": [
    "toilets.head()"
   ]
  },
  {
   "cell_type": "markdown",
   "metadata": {},
   "source": [
    "### `toilets` DataFrame Overview"
   ]
  },
  {
   "cell_type": "code",
   "execution_count": 3,
   "metadata": {},
   "outputs": [
    {
     "name": "stdout",
     "output_type": "stream",
     "text": [
      "<class 'pandas.core.frame.DataFrame'>\n",
      "RangeIndex: 616 entries, 0 to 615\n",
      "Data columns (total 6 columns):\n",
      "Name                   616 non-null object\n",
      "Location               615 non-null object\n",
      "Open Year-Round        589 non-null object\n",
      "Handicap Accessible    129 non-null object\n",
      "Borough                616 non-null object\n",
      "Comments               8 non-null object\n",
      "dtypes: object(6)\n",
      "memory usage: 29.0+ KB\n"
     ]
    }
   ],
   "source": [
    "toilets.info()"
   ]
  },
  {
   "cell_type": "markdown",
   "metadata": {},
   "source": [
    "The `Location` column will be explored first to determine if any address-related data or coordinate-related data can be parsed. The `Borough` column will then be explored and determined if it is more appropriate for use in this analysis."
   ]
  },
  {
   "cell_type": "code",
   "execution_count": 4,
   "metadata": {},
   "outputs": [],
   "source": [
    "toilets_copy = toilets.copy()"
   ]
  },
  {
   "cell_type": "markdown",
   "metadata": {},
   "source": [
    "### \"Location\" Column Exploration"
   ]
  },
  {
   "cell_type": "code",
   "execution_count": 5,
   "metadata": {},
   "outputs": [
    {
     "data": {
      "text/plain": [
       "Bruckner Boulevard, Eastchester Bay, Hutchinson                                                    6\n",
       "Broadway, Jerome Avenue, City Line, Van Cortlandt Park South                                       4\n",
       "Richmond Parkway & Moravian Cemetery at Rockland Avenue                                            4\n",
       "South of Flushing Avenue                                                                           3\n",
       "Natural Area and Boardwalk from Sands Lane to Vulcan Street, East of Father Capodanno Boulevard    3\n",
       "Central Park                                                                                       2\n",
       "Name: Location, dtype: int64"
      ]
     },
     "execution_count": 5,
     "metadata": {},
     "output_type": "execute_result"
    }
   ],
   "source": [
    "toilets_copy.loc[:,\"Location\"].value_counts(dropna=False)[0:6]"
   ]
  },
  {
   "cell_type": "markdown",
   "metadata": {},
   "source": [
    "The \"Location\" column contains address information in an inconsistent format that can't be parsed easily. The focus will remain on number of toilets at borough level."
   ]
  },
  {
   "cell_type": "markdown",
   "metadata": {},
   "source": [
    "### \"Borough\" Column"
   ]
  },
  {
   "cell_type": "code",
   "execution_count": 6,
   "metadata": {},
   "outputs": [
    {
     "data": {
      "text/plain": [
       "Brooklyn         170\n",
       "Queens           161\n",
       "Manhattan        129\n",
       "Bronx            118\n",
       "Staten Island     38\n",
       "Name: Borough, dtype: int64"
      ]
     },
     "execution_count": 6,
     "metadata": {},
     "output_type": "execute_result"
    }
   ],
   "source": [
    "toilets_copy.loc[:,\"Borough\"].value_counts(dropna=False)"
   ]
  },
  {
   "cell_type": "markdown",
   "metadata": {},
   "source": [
    "The \"Borough\" column will be more appropriate for this analysis. The number of public parks toilets per square mile in each borough will be evaluated."
   ]
  },
  {
   "cell_type": "markdown",
   "metadata": {},
   "source": [
    "#### Borough Areas in mi<sup>2</sup>"
   ]
  },
  {
   "cell_type": "code",
   "execution_count": 7,
   "metadata": {},
   "outputs": [
    {
     "data": {
      "text/html": [
       "<div>\n",
       "<style scoped>\n",
       "    .dataframe tbody tr th:only-of-type {\n",
       "        vertical-align: middle;\n",
       "    }\n",
       "\n",
       "    .dataframe tbody tr th {\n",
       "        vertical-align: top;\n",
       "    }\n",
       "\n",
       "    .dataframe thead th {\n",
       "        text-align: right;\n",
       "    }\n",
       "</style>\n",
       "<table border=\"1\" class=\"dataframe\">\n",
       "  <thead>\n",
       "    <tr style=\"text-align: right;\">\n",
       "      <th></th>\n",
       "      <th>area_sq_mi</th>\n",
       "    </tr>\n",
       "  </thead>\n",
       "  <tbody>\n",
       "    <tr>\n",
       "      <th>Manhattan</th>\n",
       "      <td>22.82</td>\n",
       "    </tr>\n",
       "    <tr>\n",
       "      <th>Brooklyn</th>\n",
       "      <td>69.50</td>\n",
       "    </tr>\n",
       "    <tr>\n",
       "      <th>Staten Island</th>\n",
       "      <td>58.69</td>\n",
       "    </tr>\n",
       "    <tr>\n",
       "      <th>Bronx</th>\n",
       "      <td>42.47</td>\n",
       "    </tr>\n",
       "    <tr>\n",
       "      <th>Queens</th>\n",
       "      <td>108.10</td>\n",
       "    </tr>\n",
       "  </tbody>\n",
       "</table>\n",
       "</div>"
      ],
      "text/plain": [
       "               area_sq_mi\n",
       "Manhattan           22.82\n",
       "Brooklyn            69.50\n",
       "Staten Island       58.69\n",
       "Bronx               42.47\n",
       "Queens             108.10"
      ]
     },
     "execution_count": 7,
     "metadata": {},
     "output_type": "execute_result"
    }
   ],
   "source": [
    "borough_areas_data = {\"area_sq_mi\":[22.82,69.50,58.69,42.47,108.10]}\n",
    "borough_areas_index = [\"Manhattan\",\"Brooklyn\",\"Staten Island\",\"Bronx\",\"Queens\"]\n",
    "borough_areas = pd.DataFrame(data=borough_areas_data,index=borough_areas_index)\n",
    "borough_areas"
   ]
  },
  {
   "cell_type": "markdown",
   "metadata": {},
   "source": [
    "The area in square miles for each borough was found in a Google search on 10 August 2019. These values will be used later to calculate the ratio of public parks toilets to square miles for each borough."
   ]
  },
  {
   "cell_type": "markdown",
   "metadata": {},
   "source": [
    "### \"Handicap Accessible\" Column"
   ]
  },
  {
   "cell_type": "code",
   "execution_count": 8,
   "metadata": {},
   "outputs": [
    {
     "data": {
      "text/plain": [
       "NaN    487\n",
       "Yes    129\n",
       "Name: Handicap Accessible, dtype: int64"
      ]
     },
     "execution_count": 8,
     "metadata": {},
     "output_type": "execute_result"
    }
   ],
   "source": [
    "toilets_copy.loc[:,\"Handicap Accessible\"].value_counts(dropna=False)"
   ]
  },
  {
   "cell_type": "markdown",
   "metadata": {},
   "source": [
    "The values in the \"Handicap Accessible\" column can be safely assumed to be Boolean. The `NaN` values will be converted to `False`, and the `Yes` values will be converted to `True`."
   ]
  },
  {
   "cell_type": "code",
   "execution_count": 9,
   "metadata": {},
   "outputs": [
    {
     "data": {
      "text/plain": [
       "False    487\n",
       "True     129\n",
       "Name: Handicap Accessible, dtype: int64"
      ]
     },
     "execution_count": 9,
     "metadata": {},
     "output_type": "execute_result"
    }
   ],
   "source": [
    "handicap_access_bool = toilets_copy.loc[:,\"Handicap Accessible\"] == \"Yes\"\n",
    "toilets_copy.loc[handicap_access_bool,\"Handicap Accessible\"] = True\n",
    "toilets_copy.loc[~handicap_access_bool,\"Handicap Accessible\"] = False\n",
    "toilets_copy.loc[:,\"Handicap Accessible\"] = toilets_copy.loc[:,\"Handicap Accessible\"].astype(\"bool\")\n",
    "\n",
    "toilets_copy.loc[:,\"Handicap Accessible\"].value_counts(dropna=False)"
   ]
  },
  {
   "cell_type": "markdown",
   "metadata": {},
   "source": [
    "### \"Open Year-Round\" Column"
   ]
  },
  {
   "cell_type": "code",
   "execution_count": 10,
   "metadata": {},
   "outputs": [
    {
     "data": {
      "text/plain": [
       "Yes    529\n",
       "No      60\n",
       "NaN     27\n",
       "Name: Open Year-Round, dtype: int64"
      ]
     },
     "execution_count": 10,
     "metadata": {},
     "output_type": "execute_result"
    }
   ],
   "source": [
    "toilets_copy.loc[:,\"Open Year-Round\"].value_counts(dropna=False)"
   ]
  },
  {
   "cell_type": "markdown",
   "metadata": {},
   "source": [
    "Rows with `NaN` in the \"Open Year-Round\" column can't be assumed to be treated as `False`. The rows with \"NaN\" values in the \"Open Year-Round\" column will be dropped for simplicity's sake. The `Yes` and `No` values will be converted to Boolean values."
   ]
  },
  {
   "cell_type": "code",
   "execution_count": 11,
   "metadata": {},
   "outputs": [
    {
     "data": {
      "text/plain": [
       "True     529\n",
       "False     60\n",
       "Name: Open Year-Round, dtype: int64"
      ]
     },
     "execution_count": 11,
     "metadata": {},
     "output_type": "execute_result"
    }
   ],
   "source": [
    "toilets_copy.dropna(subset=[\"Open Year-Round\"],inplace=True)\n",
    "open_year_round_bool = toilets_copy.loc[:,\"Open Year-Round\"] == \"Yes\"\n",
    "toilets_copy.loc[open_year_round_bool,\"Open Year-Round\"] = True\n",
    "toilets_copy.loc[~open_year_round_bool,\"Open Year-Round\"] = False\n",
    "toilets_copy.loc[:,\"Open Year-Round\"] = toilets_copy.loc[:,\"Open Year-Round\"].astype(\"bool\")\n",
    "\n",
    "toilets_copy.loc[:,\"Open Year-Round\"].value_counts(dropna=False)"
   ]
  },
  {
   "cell_type": "markdown",
   "metadata": {},
   "source": [
    "### \"Comments\" Column"
   ]
  },
  {
   "cell_type": "code",
   "execution_count": 12,
   "metadata": {},
   "outputs": [
    {
     "data": {
      "text/plain": [
       "This facility is currently closed      5\n",
       "This facility is currently closed.     1\n",
       "Name: Comments, dtype: int64"
      ]
     },
     "execution_count": 12,
     "metadata": {},
     "output_type": "execute_result"
    }
   ],
   "source": [
    "comments_exist_bool = pd.notnull(toilets_copy.loc[:,\"Comments\"])\n",
    "toilets_copy.loc[comments_exist_bool,\"Comments\"].value_counts(dropna=False)"
   ]
  },
  {
   "cell_type": "markdown",
   "metadata": {},
   "source": [
    "A new column named \"Currently Open\" will be created to show a toilet's operational status. The columns listed as \"currently closed\" will be given a value of `False` in the \"Currently Open\" column."
   ]
  },
  {
   "cell_type": "code",
   "execution_count": 13,
   "metadata": {},
   "outputs": [
    {
     "data": {
      "text/plain": [
       "True     583\n",
       "False      6\n",
       "Name: Currently Open, dtype: int64"
      ]
     },
     "execution_count": 13,
     "metadata": {},
     "output_type": "execute_result"
    }
   ],
   "source": [
    "closed_bool = toilets_copy.loc[:,\"Comments\"].str.contains(\"currently closed\",na=False)\n",
    "toilets_copy.loc[closed_bool,\"Currently Open\"] = False\n",
    "toilets_copy.loc[~closed_bool,\"Currently Open\"] = True\n",
    "toilets_copy.loc[:,\"Currently Open\"] = toilets_copy.loc[:,\"Currently Open\"].astype(\"bool\")\n",
    "\n",
    "toilets_copy.loc[:,\"Currently Open\"].value_counts(dropna=False)"
   ]
  },
  {
   "cell_type": "markdown",
   "metadata": {},
   "source": [
    "### Data Cleaning Complete"
   ]
  },
  {
   "cell_type": "code",
   "execution_count": 14,
   "metadata": {},
   "outputs": [
    {
     "data": {
      "text/html": [
       "<div>\n",
       "<style scoped>\n",
       "    .dataframe tbody tr th:only-of-type {\n",
       "        vertical-align: middle;\n",
       "    }\n",
       "\n",
       "    .dataframe tbody tr th {\n",
       "        vertical-align: top;\n",
       "    }\n",
       "\n",
       "    .dataframe thead th {\n",
       "        text-align: right;\n",
       "    }\n",
       "</style>\n",
       "<table border=\"1\" class=\"dataframe\">\n",
       "  <thead>\n",
       "    <tr style=\"text-align: right;\">\n",
       "      <th></th>\n",
       "      <th>Name</th>\n",
       "      <th>Location</th>\n",
       "      <th>Open Year-Round</th>\n",
       "      <th>Handicap Accessible</th>\n",
       "      <th>Borough</th>\n",
       "      <th>Comments</th>\n",
       "      <th>Currently Open</th>\n",
       "    </tr>\n",
       "  </thead>\n",
       "  <tbody>\n",
       "    <tr>\n",
       "      <th>0</th>\n",
       "      <td>100% Playground</td>\n",
       "      <td>Glenwood Road, East 100 &amp; East 101 streets</td>\n",
       "      <td>True</td>\n",
       "      <td>False</td>\n",
       "      <td>Brooklyn</td>\n",
       "      <td>NaN</td>\n",
       "      <td>True</td>\n",
       "    </tr>\n",
       "    <tr>\n",
       "      <th>1</th>\n",
       "      <td>174th Street Playground</td>\n",
       "      <td>East 174 Street, Stratford Avenue, Bronx River...</td>\n",
       "      <td>True</td>\n",
       "      <td>False</td>\n",
       "      <td>Bronx</td>\n",
       "      <td>NaN</td>\n",
       "      <td>True</td>\n",
       "    </tr>\n",
       "    <tr>\n",
       "      <th>2</th>\n",
       "      <td>227 Street Playground</td>\n",
       "      <td>Bronx Boulevard between East 226 and East 228 ...</td>\n",
       "      <td>True</td>\n",
       "      <td>True</td>\n",
       "      <td>Bronx</td>\n",
       "      <td>NaN</td>\n",
       "      <td>True</td>\n",
       "    </tr>\n",
       "    <tr>\n",
       "      <th>3</th>\n",
       "      <td>Abe Lincoln</td>\n",
       "      <td>East 135 Street, between Madison &amp; 5 avenues</td>\n",
       "      <td>True</td>\n",
       "      <td>False</td>\n",
       "      <td>Manhattan</td>\n",
       "      <td>NaN</td>\n",
       "      <td>True</td>\n",
       "    </tr>\n",
       "    <tr>\n",
       "      <th>4</th>\n",
       "      <td>Abigail Playground</td>\n",
       "      <td>East 156 Street, Tinton Avenue</td>\n",
       "      <td>False</td>\n",
       "      <td>False</td>\n",
       "      <td>Bronx</td>\n",
       "      <td>NaN</td>\n",
       "      <td>True</td>\n",
       "    </tr>\n",
       "  </tbody>\n",
       "</table>\n",
       "</div>"
      ],
      "text/plain": [
       "                      Name                                           Location  \\\n",
       "0          100% Playground         Glenwood Road, East 100 & East 101 streets   \n",
       "1  174th Street Playground  East 174 Street, Stratford Avenue, Bronx River...   \n",
       "2    227 Street Playground  Bronx Boulevard between East 226 and East 228 ...   \n",
       "3              Abe Lincoln       East 135 Street, between Madison & 5 avenues   \n",
       "4       Abigail Playground                     East 156 Street, Tinton Avenue   \n",
       "\n",
       "   Open Year-Round  Handicap Accessible    Borough Comments  Currently Open  \n",
       "0             True                False   Brooklyn      NaN            True  \n",
       "1             True                False      Bronx      NaN            True  \n",
       "2             True                 True      Bronx      NaN            True  \n",
       "3             True                False  Manhattan      NaN            True  \n",
       "4            False                False      Bronx      NaN            True  "
      ]
     },
     "execution_count": 14,
     "metadata": {},
     "output_type": "execute_result"
    }
   ],
   "source": [
    "toilets_copy.head()"
   ]
  },
  {
   "cell_type": "code",
   "execution_count": 15,
   "metadata": {},
   "outputs": [],
   "source": [
    "cleaned_toilets = toilets_copy.copy()\n",
    "cleaned_toilets.drop([\"Name\",\"Location\",\"Comments\",\"Open Year-Round\"],axis=1,inplace=True)"
   ]
  },
  {
   "cell_type": "markdown",
   "metadata": {},
   "source": [
    "The \"Name\", \"Location\", and \"Comments\" columns are dropped because they are not relevant to the analysis."
   ]
  },
  {
   "cell_type": "code",
   "execution_count": 16,
   "metadata": {},
   "outputs": [
    {
     "data": {
      "text/html": [
       "<div>\n",
       "<style scoped>\n",
       "    .dataframe tbody tr th:only-of-type {\n",
       "        vertical-align: middle;\n",
       "    }\n",
       "\n",
       "    .dataframe tbody tr th {\n",
       "        vertical-align: top;\n",
       "    }\n",
       "\n",
       "    .dataframe thead th {\n",
       "        text-align: right;\n",
       "    }\n",
       "</style>\n",
       "<table border=\"1\" class=\"dataframe\">\n",
       "  <thead>\n",
       "    <tr style=\"text-align: right;\">\n",
       "      <th></th>\n",
       "      <th>Handicap Accessible</th>\n",
       "      <th>Borough</th>\n",
       "      <th>Currently Open</th>\n",
       "      <th>Open and Handicap Accessible</th>\n",
       "    </tr>\n",
       "  </thead>\n",
       "  <tbody>\n",
       "    <tr>\n",
       "      <th>0</th>\n",
       "      <td>False</td>\n",
       "      <td>Brooklyn</td>\n",
       "      <td>True</td>\n",
       "      <td>False</td>\n",
       "    </tr>\n",
       "    <tr>\n",
       "      <th>1</th>\n",
       "      <td>False</td>\n",
       "      <td>Bronx</td>\n",
       "      <td>True</td>\n",
       "      <td>False</td>\n",
       "    </tr>\n",
       "    <tr>\n",
       "      <th>2</th>\n",
       "      <td>True</td>\n",
       "      <td>Bronx</td>\n",
       "      <td>True</td>\n",
       "      <td>True</td>\n",
       "    </tr>\n",
       "    <tr>\n",
       "      <th>3</th>\n",
       "      <td>False</td>\n",
       "      <td>Manhattan</td>\n",
       "      <td>True</td>\n",
       "      <td>False</td>\n",
       "    </tr>\n",
       "    <tr>\n",
       "      <th>4</th>\n",
       "      <td>False</td>\n",
       "      <td>Bronx</td>\n",
       "      <td>True</td>\n",
       "      <td>False</td>\n",
       "    </tr>\n",
       "  </tbody>\n",
       "</table>\n",
       "</div>"
      ],
      "text/plain": [
       "   Handicap Accessible    Borough  Currently Open  \\\n",
       "0                False   Brooklyn            True   \n",
       "1                False      Bronx            True   \n",
       "2                 True      Bronx            True   \n",
       "3                False  Manhattan            True   \n",
       "4                False      Bronx            True   \n",
       "\n",
       "   Open and Handicap Accessible  \n",
       "0                         False  \n",
       "1                         False  \n",
       "2                          True  \n",
       "3                         False  \n",
       "4                         False  "
      ]
     },
     "execution_count": 16,
     "metadata": {},
     "output_type": "execute_result"
    }
   ],
   "source": [
    "cleaned_toilets.loc[:,\"Open and Handicap Accessible\"] = cleaned_toilets.loc[:,\"Currently Open\"] & \\\n",
    "                                                        cleaned_toilets.loc[:,\"Handicap Accessible\"]\n",
    "\n",
    "cleaned_toilets.head()"
   ]
  },
  {
   "cell_type": "code",
   "execution_count": 17,
   "metadata": {},
   "outputs": [
    {
     "name": "stdout",
     "output_type": "stream",
     "text": [
      "<class 'pandas.core.frame.DataFrame'>\n",
      "Int64Index: 589 entries, 0 to 615\n",
      "Data columns (total 4 columns):\n",
      "Handicap Accessible             589 non-null bool\n",
      "Borough                         589 non-null object\n",
      "Currently Open                  589 non-null bool\n",
      "Open and Handicap Accessible    589 non-null bool\n",
      "dtypes: bool(3), object(1)\n",
      "memory usage: 10.9+ KB\n"
     ]
    }
   ],
   "source": [
    "cleaned_toilets.info()"
   ]
  },
  {
   "cell_type": "markdown",
   "metadata": {},
   "source": [
    "`cleaned_toilets` is ready to be analyzed."
   ]
  },
  {
   "cell_type": "markdown",
   "metadata": {},
   "source": [
    "## Analysis and Visualization"
   ]
  },
  {
   "cell_type": "code",
   "execution_count": 18,
   "metadata": {},
   "outputs": [
    {
     "data": {
      "text/html": [
       "<div>\n",
       "<style scoped>\n",
       "    .dataframe tbody tr th:only-of-type {\n",
       "        vertical-align: middle;\n",
       "    }\n",
       "\n",
       "    .dataframe tbody tr th {\n",
       "        vertical-align: top;\n",
       "    }\n",
       "\n",
       "    .dataframe thead tr th {\n",
       "        text-align: left;\n",
       "    }\n",
       "\n",
       "    .dataframe thead tr:last-of-type th {\n",
       "        text-align: right;\n",
       "    }\n",
       "</style>\n",
       "<table border=\"1\" class=\"dataframe\">\n",
       "  <thead>\n",
       "    <tr>\n",
       "      <th></th>\n",
       "      <th colspan=\"3\" halign=\"left\">mean</th>\n",
       "      <th colspan=\"3\" halign=\"left\">sum</th>\n",
       "    </tr>\n",
       "    <tr>\n",
       "      <th></th>\n",
       "      <th>Currently Open</th>\n",
       "      <th>Handicap Accessible</th>\n",
       "      <th>Open and Handicap Accessible</th>\n",
       "      <th>Currently Open</th>\n",
       "      <th>Handicap Accessible</th>\n",
       "      <th>Open and Handicap Accessible</th>\n",
       "    </tr>\n",
       "    <tr>\n",
       "      <th>Borough</th>\n",
       "      <th></th>\n",
       "      <th></th>\n",
       "      <th></th>\n",
       "      <th></th>\n",
       "      <th></th>\n",
       "      <th></th>\n",
       "    </tr>\n",
       "  </thead>\n",
       "  <tbody>\n",
       "    <tr>\n",
       "      <th>Bronx</th>\n",
       "      <td>1.000000</td>\n",
       "      <td>0.222222</td>\n",
       "      <td>0.222222</td>\n",
       "      <td>117.0</td>\n",
       "      <td>26.0</td>\n",
       "      <td>26.0</td>\n",
       "    </tr>\n",
       "    <tr>\n",
       "      <th>Brooklyn</th>\n",
       "      <td>0.993865</td>\n",
       "      <td>0.147239</td>\n",
       "      <td>0.147239</td>\n",
       "      <td>162.0</td>\n",
       "      <td>24.0</td>\n",
       "      <td>24.0</td>\n",
       "    </tr>\n",
       "    <tr>\n",
       "      <th>Manhattan</th>\n",
       "      <td>1.000000</td>\n",
       "      <td>0.206612</td>\n",
       "      <td>0.206612</td>\n",
       "      <td>121.0</td>\n",
       "      <td>25.0</td>\n",
       "      <td>25.0</td>\n",
       "    </tr>\n",
       "    <tr>\n",
       "      <th>Queens</th>\n",
       "      <td>0.993506</td>\n",
       "      <td>0.116883</td>\n",
       "      <td>0.116883</td>\n",
       "      <td>153.0</td>\n",
       "      <td>18.0</td>\n",
       "      <td>18.0</td>\n",
       "    </tr>\n",
       "    <tr>\n",
       "      <th>Staten Island</th>\n",
       "      <td>0.882353</td>\n",
       "      <td>0.470588</td>\n",
       "      <td>0.382353</td>\n",
       "      <td>30.0</td>\n",
       "      <td>16.0</td>\n",
       "      <td>13.0</td>\n",
       "    </tr>\n",
       "    <tr>\n",
       "      <th>All</th>\n",
       "      <td>0.989813</td>\n",
       "      <td>0.185059</td>\n",
       "      <td>0.179966</td>\n",
       "      <td>583.0</td>\n",
       "      <td>109.0</td>\n",
       "      <td>106.0</td>\n",
       "    </tr>\n",
       "  </tbody>\n",
       "</table>\n",
       "</div>"
      ],
      "text/plain": [
       "                        mean                                                   \\\n",
       "              Currently Open Handicap Accessible Open and Handicap Accessible   \n",
       "Borough                                                                         \n",
       "Bronx               1.000000            0.222222                     0.222222   \n",
       "Brooklyn            0.993865            0.147239                     0.147239   \n",
       "Manhattan           1.000000            0.206612                     0.206612   \n",
       "Queens              0.993506            0.116883                     0.116883   \n",
       "Staten Island       0.882353            0.470588                     0.382353   \n",
       "All                 0.989813            0.185059                     0.179966   \n",
       "\n",
       "                         sum                                                   \n",
       "              Currently Open Handicap Accessible Open and Handicap Accessible  \n",
       "Borough                                                                        \n",
       "Bronx                  117.0                26.0                         26.0  \n",
       "Brooklyn               162.0                24.0                         24.0  \n",
       "Manhattan              121.0                25.0                         25.0  \n",
       "Queens                 153.0                18.0                         18.0  \n",
       "Staten Island           30.0                16.0                         13.0  \n",
       "All                    583.0               109.0                        106.0  "
      ]
     },
     "execution_count": 18,
     "metadata": {},
     "output_type": "execute_result"
    }
   ],
   "source": [
    "toilets_pivot = pd.pivot_table(cleaned_toilets,\n",
    "                               index=\"Borough\",\n",
    "                               values=[\"Handicap Accessible\",\n",
    "                                       \"Currently Open\",\n",
    "                                       \"Open and Handicap Accessible\"],\n",
    "                               aggfunc=[np.mean,np.sum],\n",
    "                               margins=True)\n",
    "toilets_pivot"
   ]
  },
  {
   "cell_type": "markdown",
   "metadata": {},
   "source": [
    "`toilets_pivot` gives an excellent view of what percent of toilets are open and handicap-accessible for each borough. Notice the low percentage of bathrooms currently open and handicap accessible.\n",
    "\n",
    "Worth noting is the low percentage of handicap accessible toilets overall (~18.5%)."
   ]
  },
  {
   "cell_type": "code",
   "execution_count": 19,
   "metadata": {},
   "outputs": [
    {
     "data": {
      "text/html": [
       "<div>\n",
       "<style scoped>\n",
       "    .dataframe tbody tr th:only-of-type {\n",
       "        vertical-align: middle;\n",
       "    }\n",
       "\n",
       "    .dataframe tbody tr th {\n",
       "        vertical-align: top;\n",
       "    }\n",
       "\n",
       "    .dataframe thead th {\n",
       "        text-align: right;\n",
       "    }\n",
       "</style>\n",
       "<table border=\"1\" class=\"dataframe\">\n",
       "  <thead>\n",
       "    <tr style=\"text-align: right;\">\n",
       "      <th></th>\n",
       "      <th>area_sq_mi</th>\n",
       "      <th>Currently Open</th>\n",
       "      <th>Currently Open Toilets/Sq. Mile</th>\n",
       "      <th>Open and Handicap Accessible</th>\n",
       "      <th>Open and Handicap Accessible Toilets/Sq. Mile</th>\n",
       "    </tr>\n",
       "  </thead>\n",
       "  <tbody>\n",
       "    <tr>\n",
       "      <th>Manhattan</th>\n",
       "      <td>22.82</td>\n",
       "      <td>121.0</td>\n",
       "      <td>5.302366</td>\n",
       "      <td>25.0</td>\n",
       "      <td>1.095530</td>\n",
       "    </tr>\n",
       "    <tr>\n",
       "      <th>Brooklyn</th>\n",
       "      <td>69.50</td>\n",
       "      <td>162.0</td>\n",
       "      <td>2.330935</td>\n",
       "      <td>24.0</td>\n",
       "      <td>0.345324</td>\n",
       "    </tr>\n",
       "    <tr>\n",
       "      <th>Staten Island</th>\n",
       "      <td>58.69</td>\n",
       "      <td>30.0</td>\n",
       "      <td>0.511160</td>\n",
       "      <td>13.0</td>\n",
       "      <td>0.221503</td>\n",
       "    </tr>\n",
       "    <tr>\n",
       "      <th>Bronx</th>\n",
       "      <td>42.47</td>\n",
       "      <td>117.0</td>\n",
       "      <td>2.754886</td>\n",
       "      <td>26.0</td>\n",
       "      <td>0.612197</td>\n",
       "    </tr>\n",
       "    <tr>\n",
       "      <th>Queens</th>\n",
       "      <td>108.10</td>\n",
       "      <td>153.0</td>\n",
       "      <td>1.415356</td>\n",
       "      <td>18.0</td>\n",
       "      <td>0.166512</td>\n",
       "    </tr>\n",
       "  </tbody>\n",
       "</table>\n",
       "</div>"
      ],
      "text/plain": [
       "               area_sq_mi  Currently Open  Currently Open Toilets/Sq. Mile  \\\n",
       "Manhattan           22.82           121.0                         5.302366   \n",
       "Brooklyn            69.50           162.0                         2.330935   \n",
       "Staten Island       58.69            30.0                         0.511160   \n",
       "Bronx               42.47           117.0                         2.754886   \n",
       "Queens             108.10           153.0                         1.415356   \n",
       "\n",
       "               Open and Handicap Accessible  \\\n",
       "Manhattan                              25.0   \n",
       "Brooklyn                               24.0   \n",
       "Staten Island                          13.0   \n",
       "Bronx                                  26.0   \n",
       "Queens                                 18.0   \n",
       "\n",
       "               Open and Handicap Accessible Toilets/Sq. Mile  \n",
       "Manhattan                                           1.095530  \n",
       "Brooklyn                                            0.345324  \n",
       "Staten Island                                       0.221503  \n",
       "Bronx                                               0.612197  \n",
       "Queens                                              0.166512  "
      ]
     },
     "execution_count": 19,
     "metadata": {},
     "output_type": "execute_result"
    }
   ],
   "source": [
    "borough_areas = borough_areas.join(toilets_pivot.loc[:,\"sum\",][\"Currently Open\"])\n",
    "borough_areas.loc[:,\"Currently Open Toilets/Sq. Mile\"] = borough_areas.loc[:,\"Currently Open\"] / \\\n",
    "                                          borough_areas.loc[:,\"area_sq_mi\"]\n",
    "\n",
    "borough_areas = borough_areas.join(toilets_pivot.loc[:,\"sum\",][\"Open and Handicap Accessible\"])\n",
    "borough_areas.loc[:,\"Open and Handicap Accessible Toilets/Sq. Mile\"] = borough_areas.loc[:,\"Open and Handicap Accessible\"] / \\\n",
    "                                          borough_areas.loc[:,\"area_sq_mi\"]\n",
    "borough_areas"
   ]
  },
  {
   "cell_type": "markdown",
   "metadata": {},
   "source": [
    "The sum of currently open, handicap accessible, and open year-round toilets for each borough is joined with the `borough_areas` DataFrame from earlier in this analysis."
   ]
  },
  {
   "cell_type": "code",
   "execution_count": 20,
   "metadata": {},
   "outputs": [
    {
     "data": {
      "image/png": "[encoded data removed]",
      "text/plain": [
       "<Figure size 432x288 with 1 Axes>"
      ]
     },
     "metadata": {
      "needs_background": "light"
     },
     "output_type": "display_data"
    }
   ],
   "source": [
    "toilets_viz = borough_areas.loc[:,[\"Currently Open Toilets/Sq. Mile\",\n",
    "                                   \"Open and Handicap Accessible Toilets/Sq. Mile\"]].copy()\n",
    "toilets_viz = toilets_viz.sort_values(by=\"Currently Open Toilets/Sq. Mile\",ascending=False)\n",
    "\n",
    "ax = toilets_viz.plot(kind=\"bar\",rot=30)\n",
    "ax.set_title(\"NYC Public Parks Toilets per Square Mile\")\n",
    "plt.show()"
   ]
  },
  {
   "cell_type": "markdown",
   "metadata": {},
   "source": [
    "The number of currently open, handicap accessible toilets in public parks is dwarfed by the number of public parks toilets that are currently open but may or may not have ADA compliant accomodations."
   ]
  },
  {
   "cell_type": "markdown",
   "metadata": {},
   "source": [
    "## Thoughts and Conclusions"
   ]
  },
  {
   "cell_type": "markdown",
   "metadata": {},
   "source": [
    "A possible cause for the low percentage of handicap accessible toilets is the increased cost associated with constructing and maintaining an ADA compliant restroom. \n",
    "\n",
    "[This article](https://www.buildings.com/article-details/articleid/9242/title/the-ada-compliant-restroom) explains the requirements needed to construct an ADA compliant restroom.\n",
    "\n",
    "Addtionally, one can surmise each borough provides ADA compliant toilets based on the number of handicapped residents in its population.\n",
    "\n",
    "According to [this article](https://www.riemerlawfirm.com/wiki/new-york-disability-statistics), 11.3% of New Yorkers have a disability as of 2015:\n",
    "\n",
    "11.3% fits with the percentage of toilets in each borough that is handicap accessible."
   ]
  }
 ],
 "metadata": {
  "kernelspec": {
   "display_name": "Python 3",
   "language": "python",
   "name": "python3"
  },
  "language_info": {
   "codemirror_mode": {
    "name": "ipython",
    "version": 3
   },
   "file_extension": ".py",
   "mimetype": "text/x-python",
   "name": "python",
   "nbconvert_exporter": "python",
   "pygments_lexer": "ipython3",
   "version": "3.7.3"
  }
 },
 "nbformat": 4,
 "nbformat_minor": 2
}
